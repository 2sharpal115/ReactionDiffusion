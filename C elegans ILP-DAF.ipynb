{
 "cells": [
  {
   "cell_type": "code",
   "execution_count": 34,
   "id": "a3d3ba60",
   "metadata": {},
   "outputs": [],
   "source": [
    "# parameters\n",
    "\n",
    "gamma = 80\n",
    "a = 1\n",
    "b = 1\n",
    "c = 1\n",
    "d = 5\n",
    "h = 0.4\n",
    "r = 10\n",
    "Kda = 0.01\n",
    "Kdb = 0.01\n",
    "\n",
    "# functions\n",
    "    \n",
    "def p(u,v):\n",
    "    return v/(Kdb*(1 + u/Kda) + v)\n",
    "\n",
    "def f(u,v):\n",
    "    return 1 - a*(p(u,v))**r/(h**r + (p(u,v))**r) - u\n",
    "\n",
    "def g(u,v):\n",
    "    return 1 - b*(p(u,v))**r/(h**r + (p(u,v))**r) - c*v"
   ]
  },
  {
   "cell_type": "code",
   "execution_count": 35,
   "id": "90df83ce",
   "metadata": {},
   "outputs": [],
   "source": [
    "# boundary conditions\n",
    "\n",
    "bcs = [[{\"derivative\": 0}, {\"derivative\": 0}], \"periodic\"]"
   ]
  },
  {
   "cell_type": "code",
   "execution_count": 36,
   "id": "7e16cc8b",
   "metadata": {},
   "outputs": [],
   "source": [
    "# setting up the PDE solver \n",
    "\n",
    "from pde import PDEBase\n",
    "\n",
    "class ReactionDiffusionPDE(PDEBase):\n",
    "\n",
    "    def __init__(self, bc = bcs):\n",
    "        self.bc = bc # boundary conditions\n",
    "        self.d = d # relative diffusivity\n",
    "        self.gamma = gamma\n",
    "        \n",
    "    def evolution_rate(self, state, t=0):\n",
    "        u, v = state\n",
    "        u_t = u.laplace(bc=self.bc) + self.gamma*f(u,v) # PDE\n",
    "        v_t = self.d*v.laplace(bc=self.bc) + self.gamma*g(u,v)\n",
    "        \n",
    "        return FieldCollection([u_t, v_t])"
   ]
  },
  {
   "cell_type": "code",
   "execution_count": 37,
   "id": "816c5fbf",
   "metadata": {},
   "outputs": [
    {
     "name": "stdout",
     "output_type": "stream",
     "text": [
      "The steady state is (u0, v0) = (0.13408416850366797, 0.13408416850366797)\n"
     ]
    }
   ],
   "source": [
    "# solving for the steady state (f = g = 0)\n",
    "\n",
    "from scipy.optimize import newton\n",
    "\n",
    "# Define the system of equations\n",
    "def equations(x):\n",
    "    u, v = x\n",
    "    eq1 = f(u, v)\n",
    "    eq2 = g(u, v)\n",
    "    return [eq1, eq2]\n",
    "\n",
    "# Initial guess\n",
    "x0 = [0.5, 0.5]\n",
    "\n",
    "# Solve the system of equations using Newton-Raphson method\n",
    "u0, v0 = newton(equations, x0)\n",
    "\n",
    "# print the solution\n",
    "print(f\"The steady state is (u0, v0) = {(u0, v0)}\")"
   ]
  },
  {
   "cell_type": "code",
   "execution_count": 42,
   "id": "23ff2b08",
   "metadata": {},
   "outputs": [],
   "source": [
    "from pde import CartesianGrid, ScalarField\n",
    "import numpy as np\n",
    "\n",
    "# Define the domain\n",
    "grid = CartesianGrid([[0,100], [0,20]], [100,20], periodic = [False, True])"
   ]
  },
  {
   "cell_type": "code",
   "execution_count": 43,
   "id": "9a69929c",
   "metadata": {},
   "outputs": [],
   "source": [
    "from pde import FieldCollection\n",
    "\n",
    "# Initial state Case-I\n",
    "\n",
    "# Define the magnitude of noise around the steady state\n",
    "noise_u = 0.10*u0\n",
    "noise_v = 0.10*v0\n",
    "\n",
    "# define an initial state on the domain with values centered at the steady state with some noise around it\n",
    "U1 = ScalarField.random_normal(grid, noise_u) + u0\n",
    "V1 = ScalarField.random_normal(grid, noise_v) + v0\n",
    "\n",
    "state1 = FieldCollection([U1, V1])\n"
   ]
  },
  {
   "cell_type": "code",
   "execution_count": 45,
   "id": "218526e2",
   "metadata": {},
   "outputs": [
    {
     "data": {
      "image/png": "[encoded data removed]",
      "text/plain": [
       "<Figure size 576x216 with 4 Axes>"
      ]
     },
     "metadata": {
      "needs_background": "light"
     },
     "output_type": "display_data"
    },
    {
     "data": {
      "application/vnd.jupyter.widget-view+json": {
       "model_id": "c52e5855f3da43f7a2ded93c6bad4362",
       "version_major": 2,
       "version_minor": 0
      },
      "text/plain": [
       "  0%|          | 0/1.0 [00:00<?, ?it/s]"
      ]
     },
     "metadata": {},
     "output_type": "display_data"
    },
    {
     "data": {
      "application/vnd.jupyter.widget-view+json": {
       "model_id": "da5e57c04e0345e8b60b27e14058e2ca",
       "version_major": 2,
       "version_minor": 0
      },
      "text/plain": [
       "Output()"
      ]
     },
     "metadata": {},
     "output_type": "display_data"
    },
    {
     "name": "stderr",
     "output_type": "stream",
     "text": [
      "Spent more time on handling trackers (2.81) than on the actual simulation (1.61)\n"
     ]
    }
   ],
   "source": [
    "from pde import PlotTracker\n",
    "\n",
    "eq = ReactionDiffusionPDE() # solving the PDE\n",
    "\n",
    "state1.plot(title = \"Initial State\") # plotting the initial state\n",
    "\n",
    "tracker = PlotTracker(interval=0.1)\n",
    "result1 = eq.solve(state1, t_range=1, dt=0.001, tracker=[\"progress\", tracker]) # plotting the time evolution of the system\n",
    "\n",
    "# result = eq.solve(state1, t_range=2, dt=0.001)\n",
    "# print(result.data)\n",
    "\n",
    "# print(state1.data)"
   ]
  },
  {
   "cell_type": "code",
   "execution_count": 46,
   "id": "d5031895",
   "metadata": {},
   "outputs": [],
   "source": [
    "# Initial state Case-II\n",
    "\n",
    "U2 = ScalarField(grid)\n",
    "U2.data[0,0] = u0\n",
    "\n",
    "V2 = ScalarField(grid)\n",
    "V2.data[0,0] = v0\n",
    "\n",
    "state2 = FieldCollection([U2,V2])"
   ]
  },
  {
   "cell_type": "code",
   "execution_count": 47,
   "id": "98e52c68",
   "metadata": {},
   "outputs": [
    {
     "data": {
      "image/png": "[encoded data removed]",
      "text/plain": [
       "<Figure size 576x216 with 4 Axes>"
      ]
     },
     "metadata": {
      "needs_background": "light"
     },
     "output_type": "display_data"
    },
    {
     "data": {
      "application/vnd.jupyter.widget-view+json": {
       "model_id": "49502d067fc746d6939c048bc4ad3eb3",
       "version_major": 2,
       "version_minor": 0
      },
      "text/plain": [
       "  0%|          | 0/5.0 [00:00<?, ?it/s]"
      ]
     },
     "metadata": {},
     "output_type": "display_data"
    },
    {
     "data": {
      "application/vnd.jupyter.widget-view+json": {
       "model_id": "87b774bcd40f4533955fd2501cb231ac",
       "version_major": 2,
       "version_minor": 0
      },
      "text/plain": [
       "Output()"
      ]
     },
     "metadata": {},
     "output_type": "display_data"
    },
    {
     "name": "stderr",
     "output_type": "stream",
     "text": [
      "Spent more time on handling trackers (2.98) than on the actual simulation (0.719)\n"
     ]
    }
   ],
   "source": [
    "eq = ReactionDiffusionPDE() # solving the PDE\n",
    "\n",
    "state2.plot(title = \"Initial State\") # plotting the initial state\n",
    "\n",
    "tracker = PlotTracker(interval=0.5)\n",
    "result2 = eq.solve(state2, t_range=5, dt=0.01, tracker=[\"progress\", tracker]) # plotting the time evolution of the system"
   ]
  },
  {
   "cell_type": "code",
   "execution_count": null,
   "id": "719a2015",
   "metadata": {},
   "outputs": [],
   "source": []
  },
  {
   "cell_type": "code",
   "execution_count": null,
   "id": "460833a8",
   "metadata": {},
   "outputs": [],
   "source": []
  }
 ],
 "metadata": {
  "kernelspec": {
   "display_name": "Python 3 (ipykernel)",
   "language": "python",
   "name": "python3"
  },
  "language_info": {
   "codemirror_mode": {
    "name": "ipython",
    "version": 3
   },
   "file_extension": ".py",
   "mimetype": "text/x-python",
   "name": "python",
   "nbconvert_exporter": "python",
   "pygments_lexer": "ipython3",
   "version": "3.9.7"
  }
 },
 "nbformat": 4,
 "nbformat_minor": 5
}
